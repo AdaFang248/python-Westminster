{
  "nbformat": 4,
  "nbformat_minor": 0,
  "metadata": {
    "colab": {
      "provenance": [],
      "authorship_tag": "ABX9TyMwH3UJV4et6KPbFdT2YDyp",
      "include_colab_link": true
    },
    "kernelspec": {
      "name": "python3",
      "display_name": "Python 3"
    },
    "language_info": {
      "name": "python"
    }
  },
  "cells": [
    {
      "cell_type": "markdown",
      "metadata": {
        "id": "view-in-github",
        "colab_type": "text"
      },
      "source": [
        "<a href=\"https://colab.research.google.com/github/AdaFang248/python-Westminster/blob/main/12/2/2022_python6.ipynb\" target=\"_parent\"><img src=\"https://colab.research.google.com/assets/colab-badge.svg\" alt=\"Open In Colab\"/></a>"
      ]
    },
    {
      "cell_type": "markdown",
      "source": [
        "Using Defined function"
      ],
      "metadata": {
        "id": "rMf_3-r8UOhK"
      }
    },
    {
      "cell_type": "code",
      "source": [
        "def mysum(a,b):\n",
        "  return a+b\n",
        "print(\"The sum of 3 and 4 is\",mysum(3,4))"
      ],
      "metadata": {
        "colab": {
          "base_uri": "https://localhost:8080/"
        },
        "id": "urSwoB5UUUFO",
        "outputId": "9bb4232a-79f3-43f3-d143-4c291c76a479"
      },
      "execution_count": 2,
      "outputs": [
        {
          "output_type": "stream",
          "name": "stdout",
          "text": [
            "The sum of 3 and 4 is 7\n"
          ]
        }
      ]
    },
    {
      "cell_type": "code",
      "source": [
        "help(mysum)"
      ],
      "metadata": {
        "colab": {
          "base_uri": "https://localhost:8080/"
        },
        "id": "T8AqIW0qWVNy",
        "outputId": "0cf88b49-c3cb-43cc-dd7b-f68db681a2be"
      },
      "execution_count": 3,
      "outputs": [
        {
          "output_type": "stream",
          "name": "stdout",
          "text": [
            "Help on function mysum in module __main__:\n",
            "\n",
            "mysum(a, b)\n",
            "\n"
          ]
        }
      ]
    },
    {
      "cell_type": "code",
      "source": [
        "def plus42(n):\n",
        "  \"\"\"Add 42 to n and return \"\"\"\n",
        "  x=n+42\n",
        "  return x\n",
        "a=8\n",
        "b=plus42(a)\n",
        "print(\"b is\",b)\n",
        "print(\"a is\",a)"
      ],
      "metadata": {
        "colab": {
          "base_uri": "https://localhost:8080/"
        },
        "id": "QxVOXicSXXg2",
        "outputId": "2dcce8f9-2b03-465f-c027-c0bb2f442550"
      },
      "execution_count": 4,
      "outputs": [
        {
          "output_type": "stream",
          "name": "stdout",
          "text": [
            "b is 50\n",
            "a is 8\n"
          ]
        }
      ]
    },
    {
      "cell_type": "code",
      "source": [
        "help(plus42)"
      ],
      "metadata": {
        "colab": {
          "base_uri": "https://localhost:8080/"
        },
        "id": "BNlBUMccX7_t",
        "outputId": "4323fadc-eada-4c26-a925-e8a480daf2ba"
      },
      "execution_count": 5,
      "outputs": [
        {
          "output_type": "stream",
          "name": "stdout",
          "text": [
            "Help on function plus42 in module __main__:\n",
            "\n",
            "plus42(n)\n",
            "    Add 42 to n and return\n",
            "\n"
          ]
        }
      ]
    },
    {
      "cell_type": "code",
      "source": [
        "def print_twice(message):\n",
        "  print(message)\n",
        "  print(message)\n",
        "# main programe start here\n",
        "print_twice(\"hello\")\n",
        "print_twice(42)\n",
        "greeting='hello'\n",
        "print_twice(greeting)"
      ],
      "metadata": {
        "colab": {
          "base_uri": "https://localhost:8080/"
        },
        "id": "qjO_8zA2Yumm",
        "outputId": "0548862a-a0b4-40d4-f223-1f5b913eb024"
      },
      "execution_count": 6,
      "outputs": [
        {
          "output_type": "stream",
          "name": "stdout",
          "text": [
            "hello\n",
            "hello\n",
            "42\n",
            "42\n",
            "hello\n",
            "hello\n"
          ]
        }
      ]
    },
    {
      "cell_type": "code",
      "source": [
        "def print42():\n",
        "  print(42)\n",
        "a=print42() #output 42 and returns the special \n",
        "print(a) #object none which is put in a\n",
        "# output None"
      ],
      "metadata": {
        "colab": {
          "base_uri": "https://localhost:8080/"
        },
        "id": "kqnUdkUiZcbW",
        "outputId": "dcb4c52e-87e1-4f04-c9f2-0477dab501f7"
      },
      "execution_count": 8,
      "outputs": [
        {
          "output_type": "stream",
          "name": "stdout",
          "text": [
            "42\n",
            "None\n"
          ]
        }
      ]
    },
    {
      "cell_type": "code",
      "source": [
        "def b():\n",
        "  a=99\n",
        "  print(a)\n",
        "a=42\n",
        "print(a) # output 42\n",
        "b() #\n",
        "print(a)"
      ],
      "metadata": {
        "colab": {
          "base_uri": "https://localhost:8080/"
        },
        "id": "kaL3bGX5aku8",
        "outputId": "d7d1d1fe-06da-42cf-b866-6e94d821d354"
      },
      "execution_count": 10,
      "outputs": [
        {
          "output_type": "stream",
          "name": "stdout",
          "text": [
            "42\n",
            "99\n",
            "42\n"
          ]
        }
      ]
    },
    {
      "cell_type": "code",
      "source": [
        "def Numsum(x,y):\n",
        "  return x+y\n",
        "print(Numsum(4,5))"
      ],
      "metadata": {
        "colab": {
          "base_uri": "https://localhost:8080/"
        },
        "id": "EQr0_rMccsvL",
        "outputId": "d7ea07b8-5ff2-4227-a275-9cd8284b5449"
      },
      "execution_count": 11,
      "outputs": [
        {
          "output_type": "stream",
          "name": "stdout",
          "text": [
            "9\n"
          ]
        }
      ]
    },
    {
      "cell_type": "code",
      "source": [
        "def MaxNum(x,y):\n",
        "  if x>y:\n",
        "    return x\n",
        "  return y\n",
        "max=MaxNum(4,1)\n",
        "print(f'Max is {max}')"
      ],
      "metadata": {
        "colab": {
          "base_uri": "https://localhost:8080/"
        },
        "id": "gj6nrerJfgk4",
        "outputId": "d6128237-9e2e-4bca-e7a6-6e32b6aaf89d"
      },
      "execution_count": 15,
      "outputs": [
        {
          "output_type": "stream",
          "name": "stdout",
          "text": [
            "Max is 4\n"
          ]
        }
      ]
    },
    {
      "cell_type": "code",
      "source": [
        "def my_function (start,stop=10,inc):"
      ],
      "metadata": {
        "colab": {
          "base_uri": "https://localhost:8080/",
          "height": 137
        },
        "id": "t5dKHVNxh25i",
        "outputId": "1195736c-7801-4017-af44-5170d4a1df87"
      },
      "execution_count": 16,
      "outputs": [
        {
          "output_type": "error",
          "ename": "SyntaxError",
          "evalue": "ignored",
          "traceback": [
            "\u001b[0;36m  File \u001b[0;32m\"<ipython-input-16-a1111731e9ca>\"\u001b[0;36m, line \u001b[0;32m1\u001b[0m\n\u001b[0;31m    def my_function (start,stop=10,inc):\u001b[0m\n\u001b[0m                                        ^\u001b[0m\n\u001b[0;31mSyntaxError\u001b[0m\u001b[0;31m:\u001b[0m unexpected EOF while parsing\n"
          ]
        }
      ]
    },
    {
      "cell_type": "code",
      "source": [
        "def my_function(start, stop, inc=1):\n",
        "\n",
        "         print(f'start= {start}, stop= {stop}, inc= {inc}')\n",
        "\n",
        "print('Output for first function call:')\n",
        "\n",
        "a = my_function(1, 10, 5) # override default\n",
        "\n",
        "print('Output for second function call:')\n",
        "\n",
        "a = my_function(1, 10) # no inc value"
      ],
      "metadata": {
        "colab": {
          "base_uri": "https://localhost:8080/"
        },
        "id": "G7H_85G6jUGZ",
        "outputId": "d9458d0a-45e4-406b-84e3-2acd33323fb4"
      },
      "execution_count": 17,
      "outputs": [
        {
          "output_type": "stream",
          "name": "stdout",
          "text": [
            "Output for first function call:\n",
            "start= 1, stop= 10, inc= 5\n",
            "Output for second function call:\n",
            "start= 1, stop= 10, inc= 1\n"
          ]
        }
      ]
    },
    {
      "cell_type": "code",
      "source": [
        "def squareit(n):\n",
        "  return n*n\n",
        "def cubeit(n):\n",
        "  return n*n*n\n",
        "num=int(input(\"Please enter a number\"))\n",
        "print(squareit(num))\n",
        "print(cubeit(num))"
      ],
      "metadata": {
        "colab": {
          "base_uri": "https://localhost:8080/"
        },
        "id": "1XGKVAkljyFw",
        "outputId": "04d8cbf0-7606-4915-9d88-4efe15828737"
      },
      "execution_count": 20,
      "outputs": [
        {
          "output_type": "stream",
          "name": "stdout",
          "text": [
            "Please enter a number6\n",
            "36\n",
            "216\n"
          ]
        }
      ]
    },
    {
      "cell_type": "code",
      "source": [
        "def squareit(n):\n",
        "  return n*n\n",
        "def cubeit(n):\n",
        "  return n*n*n\n",
        "def main():\n",
        "  num=int(input(\"Please enter a number\"))\n",
        "  print(squareit(num))\n",
        "  print(cubeit(num))\n",
        "main()"
      ],
      "metadata": {
        "colab": {
          "base_uri": "https://localhost:8080/"
        },
        "id": "XzWh971Hmw0M",
        "outputId": "3a18d17e-0189-48ee-9bc0-a886fa020822"
      },
      "execution_count": 22,
      "outputs": [
        {
          "output_type": "stream",
          "name": "stdout",
          "text": [
            "Please enter a number6\n",
            "36\n",
            "216\n"
          ]
        }
      ]
    },
    {
      "cell_type": "code",
      "source": [],
      "metadata": {
        "id": "RyKCFCawm-rQ"
      },
      "execution_count": null,
      "outputs": []
    }
  ]
}