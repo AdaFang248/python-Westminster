{
  "nbformat": 4,
  "nbformat_minor": 0,
  "metadata": {
    "colab": {
      "provenance": [],
      "authorship_tag": "ABX9TyNOW8UBEzO3DvPagrYCUd1L",
      "include_colab_link": true
    },
    "kernelspec": {
      "name": "python3",
      "display_name": "Python 3"
    },
    "language_info": {
      "name": "python"
    }
  },
  "cells": [
    {
      "cell_type": "markdown",
      "metadata": {
        "id": "view-in-github",
        "colab_type": "text"
      },
      "source": [
        "<a href=\"https://colab.research.google.com/github/AdaFang248/python-Westminster/blob/main/11/29/2022_python5.ipynb\" target=\"_parent\"><img src=\"https://colab.research.google.com/assets/colab-badge.svg\" alt=\"Open In Colab\"/></a>"
      ]
    },
    {
      "cell_type": "code",
      "execution_count": 3,
      "metadata": {
        "colab": {
          "base_uri": "https://localhost:8080/"
        },
        "id": "qG8kqYNt6r0_",
        "outputId": "0407c1c0-0597-4901-d894-60c3966cd6d7"
      },
      "outputs": [
        {
          "output_type": "stream",
          "name": "stdout",
          "text": [
            "6\n",
            "value of last is a\n",
            "a\n"
          ]
        }
      ],
      "source": [
        "fruit='banana'\n",
        "length=len(fruit)\n",
        "print(length)\n",
        "last=fruit[length-1]\n",
        "print(\"value of last is\",last)\n",
        "print(fruit[-1])"
      ]
    },
    {
      "cell_type": "code",
      "source": [
        "fruit='apple'\n",
        "position=0\n",
        "while position<len(fruit):\n",
        "  print(fruit[position])\n",
        "  position=position+1"
      ],
      "metadata": {
        "colab": {
          "base_uri": "https://localhost:8080/"
        },
        "id": "L8XZG4fQ8hJB",
        "outputId": "0a1b3ead-bc74-4275-a5b7-3e6cfa4f449f"
      },
      "execution_count": 5,
      "outputs": [
        {
          "output_type": "stream",
          "name": "stdout",
          "text": [
            "a\n",
            "p\n",
            "p\n",
            "l\n",
            "e\n"
          ]
        }
      ]
    },
    {
      "cell_type": "code",
      "source": [
        "fruit='banana'\n",
        "for letter in fruit:\n",
        "    print(letter)"
      ],
      "metadata": {
        "colab": {
          "base_uri": "https://localhost:8080/"
        },
        "id": "HcBD-kBB-XyH",
        "outputId": "5fda7159-adc3-4d38-d6a5-253df9ccbabb"
      },
      "execution_count": 8,
      "outputs": [
        {
          "output_type": "stream",
          "name": "stdout",
          "text": [
            "b\n",
            "a\n",
            "n\n",
            "a\n",
            "n\n",
            "a\n"
          ]
        }
      ]
    },
    {
      "cell_type": "code",
      "source": [
        "s='python rocks'\n",
        "for ch in s:\n",
        "  print(ch)"
      ],
      "metadata": {
        "colab": {
          "base_uri": "https://localhost:8080/"
        },
        "id": "V1Bsi989-u_7",
        "outputId": "1914f20e-09b5-44ee-8fc9-682abcbded8b"
      },
      "execution_count": 9,
      "outputs": [
        {
          "output_type": "stream",
          "name": "stdout",
          "text": [
            "p\n",
            "y\n",
            "t\n",
            "h\n",
            "o\n",
            "n\n",
            " \n",
            "r\n",
            "o\n",
            "c\n",
            "k\n",
            "s\n"
          ]
        }
      ]
    },
    {
      "cell_type": "code",
      "source": [
        "fruit='apple'\n",
        "for idx in range(5):\n",
        "  currentChar=fruit[idx]\n",
        "  print(currentChar)"
      ],
      "metadata": {
        "colab": {
          "base_uri": "https://localhost:8080/"
        },
        "id": "fB5p9-1u_Ol5",
        "outputId": "9260349f-c158-4cc3-92ab-c4ae2aa58c62"
      },
      "execution_count": 14,
      "outputs": [
        {
          "output_type": "stream",
          "name": "stdout",
          "text": [
            "a\n",
            "p\n",
            "p\n",
            "l\n",
            "e\n"
          ]
        }
      ]
    },
    {
      "cell_type": "code",
      "source": [
        "s='westminster'\n",
        "print(s[0:4])\n",
        "print(s[4:11])"
      ],
      "metadata": {
        "colab": {
          "base_uri": "https://localhost:8080/"
        },
        "id": "6pxVgREtAcy5",
        "outputId": "a36ce6f3-9285-4b6a-a65c-51252fc2c829"
      },
      "execution_count": 16,
      "outputs": [
        {
          "output_type": "stream",
          "name": "stdout",
          "text": [
            "west\n",
            "minster\n"
          ]
        }
      ]
    },
    {
      "cell_type": "code",
      "source": [
        "fruit='banana'\n",
        "print(fruit[:3])\n",
        "print(fruit[3:])"
      ],
      "metadata": {
        "colab": {
          "base_uri": "https://localhost:8080/"
        },
        "id": "ivmqLUORCPYW",
        "outputId": "8d6b2321-ce39-4e74-df06-af5fee2fe23e"
      },
      "execution_count": 18,
      "outputs": [
        {
          "output_type": "stream",
          "name": "stdout",
          "text": [
            "ban\n",
            "ana\n"
          ]
        }
      ]
    },
    {
      "cell_type": "code",
      "source": [
        "greeting='Hello, World!'\n",
        "new_greeting='J'+greeting[1:]\n",
        "print(new_greeting)\n",
        "print(greeting)"
      ],
      "metadata": {
        "colab": {
          "base_uri": "https://localhost:8080/"
        },
        "id": "DnN_sq_-C-D7",
        "outputId": "d7745cfb-b000-43e5-a2e0-198ae45ce3e6"
      },
      "execution_count": 19,
      "outputs": [
        {
          "output_type": "stream",
          "name": "stdout",
          "text": [
            "Jello, World!\n",
            "Hello, World!\n"
          ]
        }
      ]
    },
    {
      "cell_type": "code",
      "source": [
        "word='banana'\n",
        "new_word=word.upper()\n",
        "print(new_word)\n",
        "print(new_word.lower())\n",
        "print(word[0].upper()+word[1:])"
      ],
      "metadata": {
        "colab": {
          "base_uri": "https://localhost:8080/"
        },
        "id": "0jxPiyj7FWdY",
        "outputId": "fc242ce9-152e-43eb-93bd-f0b86b85bc9a"
      },
      "execution_count": 23,
      "outputs": [
        {
          "output_type": "stream",
          "name": "stdout",
          "text": [
            "BANANA\n",
            "banana\n",
            "Banana\n"
          ]
        }
      ]
    },
    {
      "cell_type": "code",
      "source": [
        "word='banana'\n",
        "print(word.capitalize())"
      ],
      "metadata": {
        "colab": {
          "base_uri": "https://localhost:8080/"
        },
        "id": "e7h88BFnF2_R",
        "outputId": "a54bab17-fac3-421c-8eb5-2eb9a4c4c5a8"
      },
      "execution_count": 24,
      "outputs": [
        {
          "output_type": "stream",
          "name": "stdout",
          "text": [
            "Banana\n"
          ]
        }
      ]
    },
    {
      "cell_type": "code",
      "source": [
        "word='   banana'\n",
        "print(word.strip())\n",
        "print(word)"
      ],
      "metadata": {
        "colab": {
          "base_uri": "https://localhost:8080/"
        },
        "id": "Qwh_slZKHiQP",
        "outputId": "edace7d6-ebcf-4125-c78f-c786e83aad8f"
      },
      "execution_count": 25,
      "outputs": [
        {
          "output_type": "stream",
          "name": "stdout",
          "text": [
            "banana\n",
            "   banana\n"
          ]
        }
      ]
    },
    {
      "cell_type": "code",
      "source": [
        "word='banana'\n",
        "print(\"number of time 'a' occurs in 'banana' is\",word.count('a'))\n",
        "print(\"number of time 'an' occurs in 'banana' is\",word.count('an'))"
      ],
      "metadata": {
        "colab": {
          "base_uri": "https://localhost:8080/"
        },
        "id": "Y83GDYyTHu6w",
        "outputId": "3311cf3d-8f16-4cee-e8e9-54d9228f0d44"
      },
      "execution_count": 28,
      "outputs": [
        {
          "output_type": "stream",
          "name": "stdout",
          "text": [
            "number of time 'a' occurs in 'banana' is 3\n",
            "number of time 'an' occurs in 'banana' is 2\n"
          ]
        }
      ]
    },
    {
      "cell_type": "code",
      "source": [
        "word='banana'\n",
        "print(word.replace('a','u'))\n",
        "print(word)"
      ],
      "metadata": {
        "colab": {
          "base_uri": "https://localhost:8080/"
        },
        "id": "FEMpueIOIY4O",
        "outputId": "abb56947-b346-4950-997c-d7c9d8a75817"
      },
      "execution_count": 31,
      "outputs": [
        {
          "output_type": "stream",
          "name": "stdout",
          "text": [
            "bununu\n",
            "banana\n"
          ]
        }
      ]
    },
    {
      "cell_type": "code",
      "source": [
        "word='banana'\n",
        "print(word.find('an'))"
      ],
      "metadata": {
        "colab": {
          "base_uri": "https://localhost:8080/"
        },
        "id": "gayW7-E8I-Yx",
        "outputId": "2f6ea827-49dd-4274-a19a-8f39385606d3"
      },
      "execution_count": 32,
      "outputs": [
        {
          "output_type": "stream",
          "name": "stdout",
          "text": [
            "1\n"
          ]
        }
      ]
    },
    {
      "cell_type": "code",
      "source": [
        "word='banana'\n",
        "if word=='banana':\n",
        "  print('They match')"
      ],
      "metadata": {
        "colab": {
          "base_uri": "https://localhost:8080/"
        },
        "id": "2bSZtZdQJEzY",
        "outputId": "f180243e-544e-4ca6-e446-26a33ed48e80"
      },
      "execution_count": 33,
      "outputs": [
        {
          "output_type": "stream",
          "name": "stdout",
          "text": [
            "They match\n"
          ]
        }
      ]
    },
    {
      "cell_type": "code",
      "source": [
        "print(\"apple\"==\"Apple\")"
      ],
      "metadata": {
        "colab": {
          "base_uri": "https://localhost:8080/"
        },
        "id": "WJJvptc9JTkM",
        "outputId": "504d1af1-aeaa-4753-e861-5c083d181c57"
      },
      "execution_count": 34,
      "outputs": [
        {
          "output_type": "stream",
          "name": "stdout",
          "text": [
            "False\n"
          ]
        }
      ]
    },
    {
      "cell_type": "code",
      "source": [
        "print(\"apple\"==\"Apple\".lower())"
      ],
      "metadata": {
        "colab": {
          "base_uri": "https://localhost:8080/"
        },
        "id": "hE8_tfXAJ102",
        "outputId": "46066318-f963-43d1-fc59-eb47f287fc61"
      },
      "execution_count": 36,
      "outputs": [
        {
          "output_type": "stream",
          "name": "stdout",
          "text": [
            "True\n"
          ]
        }
      ]
    },
    {
      "cell_type": "code",
      "source": [],
      "metadata": {
        "id": "04HCyiynJ_db"
      },
      "execution_count": null,
      "outputs": []
    }
  ]
}